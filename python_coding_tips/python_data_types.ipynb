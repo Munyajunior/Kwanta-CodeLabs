{
 "cells": [
  {
   "cell_type": "markdown",
   "id": "a67ec099-d360-4047-a708-63803fe6e43d",
   "metadata": {
    "editable": true,
    "slideshow": {
     "slide_type": ""
    },
    "tags": []
   },
   "source": [
    "# 🧠 #KwantaCodeLab Daily Tip\n",
    "# >🐍 Understanding Python's Built-in Data Types — The Foundation of Every Program>"
   ]
  },
  {
   "cell_type": "markdown",
   "id": "edc48d63-67b8-4633-823a-7726d2d424bc",
   "metadata": {},
   "source": [
    "# 1. Numeric Types "
   ]
  },
  {
   "cell_type": "code",
   "execution_count": 1,
   "id": "7fa8b3ea-31f2-4e85-af15-915e541e7311",
   "metadata": {
    "editable": true,
    "slideshow": {
     "slide_type": ""
    },
    "tags": []
   },
   "outputs": [
    {
     "name": "stdout",
     "output_type": "stream",
     "text": [
      "<class 'int'>\n"
     ]
    }
   ],
   "source": [
    "# Integer\n",
    "age = 25            # int\n",
    "# Float\n",
    "height = 1.82       # float\n",
    "# Complex (used in scientific applications)\n",
    "z = 2 + 3j          # complex\n",
    "\n",
    "print(type(age))     # <class 'int'>"
   ]
  },
  {
   "cell_type": "markdown",
   "id": "f1b3a42a-be8c-43d3-9855-ea736fa128a1",
   "metadata": {},
   "source": [
    "# 2. Text Types"
   ]
  },
  {
   "cell_type": "code",
   "execution_count": 2,
   "id": "6461725b-a92f-4321-a1ff-3a1cdaff71c3",
   "metadata": {},
   "outputs": [
    {
     "name": "stdout",
     "output_type": "stream",
     "text": [
      "<class 'str'>\n"
     ]
    }
   ],
   "source": [
    "name = \"KwantaBit\"\n",
    "print(type(name))   # <class 'str'>\n",
    "\n",
    "# Multiline strings\n",
    "quote = \"\"\"Build local,\n",
    "scale global.\"\"\""
   ]
  },
  {
   "cell_type": "markdown",
   "id": "196731b4-732d-4cc4-a094-943431c1caa6",
   "metadata": {},
   "source": [
    "# 3. Sequence Types\n",
    "🟦 List (mutable, ordered)"
   ]
  },
  {
   "cell_type": "code",
   "execution_count": 3,
   "id": "8e0713c9-ad9b-4b0d-932e-73e862089768",
   "metadata": {},
   "outputs": [],
   "source": [
    "tools = [\"Python\", \"AI\", \"Cyber\"]\n",
    "tools.append(\"Networking\")\n"
   ]
  },
  {
   "cell_type": "markdown",
   "id": "0c77b70b-0acc-4fa9-a5b9-a2301c444844",
   "metadata": {},
   "source": [
    "🟨 Tuple (immutable, ordered)"
   ]
  },
  {
   "cell_type": "code",
   "execution_count": 4,
   "id": "5277043f-db35-4f98-8cbc-dba2ee7b54d3",
   "metadata": {},
   "outputs": [],
   "source": [
    "coords = (10.5, 20.7)"
   ]
  },
  {
   "cell_type": "markdown",
   "id": "10abada2-5df6-4fb7-aff8-e756e40440cb",
   "metadata": {},
   "source": [
    "🟧 Range (used in loops)"
   ]
  },
  {
   "cell_type": "markdown",
   "id": "3133f60f-0511-4ab1-8a6a-3a66b26933eb",
   "metadata": {},
   "source": [
    "# 4. Set Types (no duplicates)"
   ]
  },
  {
   "cell_type": "code",
   "execution_count": 5,
   "id": "37af9b7b-893b-4b25-a9d3-ae583b1be9ca",
   "metadata": {},
   "outputs": [
    {
     "name": "stdout",
     "output_type": "stream",
     "text": [
      "{'Django', 'Python'}\n"
     ]
    }
   ],
   "source": [
    "skills = {\"Python\", \"Python\", \"Django\"}\n",
    "print(skills)  # {'Python', 'Django'}\n",
    "\n",
    "# Immutable set\n",
    "frozen = frozenset([\"AI\", \"ML\"])"
   ]
  },
  {
   "cell_type": "markdown",
   "id": "b45fdfe0-7863-4349-a2e0-906b2bbe97be",
   "metadata": {},
   "source": [
    "# 5. Mapping Type (Dictionaries)"
   ]
  },
  {
   "cell_type": "code",
   "execution_count": 6,
   "id": "9863346b-7bfd-4085-acf4-0fe47f727b67",
   "metadata": {},
   "outputs": [
    {
     "name": "stdout",
     "output_type": "stream",
     "text": [
      "Ivo\n"
     ]
    }
   ],
   "source": [
    "user = {\"name\": \"Ivo\", \"role\": \"Engineer\"} # store key value pairs \"name\" = key; \"Ivo\" = Value\n",
    "print(user[\"name\"])  # Ivo"
   ]
  },
  {
   "cell_type": "markdown",
   "id": "7ec57c06-7a06-459a-95e2-8ab9616e822b",
   "metadata": {},
   "source": [
    "Since Python 3.7, dicts preserve order!"
   ]
  },
  {
   "cell_type": "markdown",
   "id": "fe4bdc21-790c-48e4-8382-bbdbc886a95e",
   "metadata": {},
   "source": [
    "# 6. Boolean Type"
   ]
  },
  {
   "cell_type": "code",
   "execution_count": 7,
   "id": "b3a5a4ae-a05d-4e90-ab55-ffbc1e39b499",
   "metadata": {},
   "outputs": [
    {
     "name": "stdout",
     "output_type": "stream",
     "text": [
      "True\n"
     ]
    }
   ],
   "source": [
    "logged_in = True\n",
    "print(isinstance(logged_in, bool))  # True"
   ]
  },
  {
   "cell_type": "markdown",
   "id": "8491de20-51b3-462d-aca0-7cb726500a47",
   "metadata": {},
   "source": [
    "Great for control logic, conditions, flags."
   ]
  },
  {
   "cell_type": "markdown",
   "id": "5a41edb6-5ca4-41d7-9701-674f7a1a6dba",
   "metadata": {},
   "source": [
    "# 7. None Type (Null)"
   ]
  },
  {
   "cell_type": "code",
   "execution_count": 8,
   "id": "4c252d4b-e91d-4485-bf65-8da76daa0567",
   "metadata": {},
   "outputs": [
    {
     "name": "stdout",
     "output_type": "stream",
     "text": [
      "It's empty!\n"
     ]
    }
   ],
   "source": [
    "nothing = None\n",
    "if nothing is None:\n",
    "    print(\"It's empty!\")"
   ]
  },
  {
   "cell_type": "markdown",
   "id": "4fe7f600-c7d7-41f2-9f0c-1f71da4b609b",
   "metadata": {},
   "source": [
    "Used when a variable has no value yet."
   ]
  },
  {
   "cell_type": "markdown",
   "id": "5476524c-8042-4b2d-8420-c4b639cf0ee0",
   "metadata": {},
   "source": [
    "# 🧠 Quick Summary Table:\n",
    "| Type       | Example         |\n",
    "| ---------- | --------------- |\n",
    "| `int`      | `10`            |\n",
    "| `float`    | `3.14`          |\n",
    "| `str`      | `\"Hello\"`       |\n",
    "| `bool`     | `True`, `False` |\n",
    "| `list`     | `[1, 2, 3]`     |\n",
    "| `tuple`    | `(4, 5)`        |\n",
    "| `dict`     | `{\"a\": 1}`      |\n",
    "| `set`      | `{\"x\", \"y\"}`    |\n",
    "| `NoneType` | `None`          |\n"
   ]
  },
  {
   "cell_type": "markdown",
   "id": "ea27e54b-d5bb-4978-892e-2ff386dc65e6",
   "metadata": {},
   "source": [
    "# ✅ Pro Tip: Use type() and isinstance() to check data types."
   ]
  },
  {
   "cell_type": "code",
   "execution_count": 9,
   "id": "2f589532-6a49-4cbd-9cff-4ca82e320403",
   "metadata": {},
   "outputs": [
    {
     "name": "stdout",
     "output_type": "stream",
     "text": [
      "<class 'float'>\n",
      "True\n"
     ]
    }
   ],
   "source": [
    "print(type(3.14))              # <class 'float'>\n",
    "print(isinstance(\"Hi\", str))  # True\n"
   ]
  }
 ],
 "metadata": {
  "kernelspec": {
   "display_name": "Python 3 (ipykernel)",
   "language": "python",
   "name": "python3"
  },
  "language_info": {
   "codemirror_mode": {
    "name": "ipython",
    "version": 3
   },
   "file_extension": ".py",
   "mimetype": "text/x-python",
   "name": "python",
   "nbconvert_exporter": "python",
   "pygments_lexer": "ipython3",
   "version": "3.13.5"
  }
 },
 "nbformat": 4,
 "nbformat_minor": 5
}
