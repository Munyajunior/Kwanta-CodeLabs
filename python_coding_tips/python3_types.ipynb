{
 "cells": [
  {
   "cell_type": "markdown",
   "id": "007c7dfa-d8f2-48c0-8679-b33fbd3c82f8",
   "metadata": {
    "editable": true,
    "slideshow": {
     "slide_type": ""
    },
    "tags": []
   },
   "source": [
    "# Python Types Introduced in Python 3 by KwantaBit CodeLabs\n"
   ]
  },
  {
   "cell_type": "markdown",
   "id": "b0f986dc-3752-4fb1-9bbf-282bf127eade",
   "metadata": {},
   "source": [
    "# 1. bytes & bytearray"
   ]
  },
  {
   "cell_type": "markdown",
   "id": "3a90c6c7-d866-4721-9fc4-1b71d929ca2e",
   "metadata": {
    "editable": true,
    "slideshow": {
     "slide_type": ""
    },
    "tags": []
   },
   "source": [
    "## str: unicode text "
   ]
  },
  {
   "cell_type": "code",
   "execution_count": 1,
   "id": "e38ddb0e-1f42-4f04-80e6-01d7dab757f2",
   "metadata": {},
   "outputs": [
    {
     "name": "stdout",
     "output_type": "stream",
     "text": [
      "kwantabit <class 'str'>\n"
     ]
    }
   ],
   "source": [
    "text = \"kwantabit\"\n",
    "print(text, type(text))"
   ]
  },
  {
   "cell_type": "markdown",
   "id": "cc31a5e0-eea7-411e-a969-00e96eabf2b4",
   "metadata": {},
   "source": [
    "## bytes: binary data"
   ]
  },
  {
   "cell_type": "code",
   "execution_count": 2,
   "id": "bd6ccdcd-98fc-4082-8f2a-59994f5fb1c2",
   "metadata": {},
   "outputs": [
    {
     "name": "stdout",
     "output_type": "stream",
     "text": [
      "b'KwantaBit' <class 'bytes'>\n"
     ]
    }
   ],
   "source": [
    "data = b\"KwantaBit\"\n",
    "print(data, type(data))"
   ]
  },
  {
   "cell_type": "markdown",
   "id": "55f3db6c-9299-4e63-8fd0-d491ebb42f14",
   "metadata": {},
   "source": [
    "## convert between them"
   ]
  },
  {
   "cell_type": "code",
   "execution_count": 5,
   "id": "0120c58c-1da0-4804-8597-1ab63b91364a",
   "metadata": {},
   "outputs": [
    {
     "name": "stdout",
     "output_type": "stream",
     "text": [
      "b'Tech'\n",
      "Tech\n"
     ]
    }
   ],
   "source": [
    "encoded = \"Tech\".encode('utf-8')\n",
    "print(encoded)  #return as b'Tech' when encoded\n",
    "\n",
    "decoded = encoded.decode('utf-8')\n",
    "print(decoded)"
   ]
  },
  {
   "cell_type": "markdown",
   "id": "756ad96d-e912-47f1-9dbe-071e9a1f9e1d",
   "metadata": {},
   "source": [
    "## Use bytearray for mutable binary data:"
   ]
  },
  {
   "cell_type": "code",
   "execution_count": 6,
   "id": "e677e4a6-7bce-4776-8d21-890d9da38830",
   "metadata": {},
   "outputs": [
    {
     "name": "stdout",
     "output_type": "stream",
     "text": [
      "bytearray(b'Data')\n"
     ]
    }
   ],
   "source": [
    "barr = bytearray(b\"data\")\n",
    "barr[0] = 68  # change first byte\n",
    "print(barr)  # bytearray(b'Data')\n"
   ]
  },
  {
   "cell_type": "markdown",
   "id": "a0240f3b-b47e-4584-aa69-8569e8e1d43b",
   "metadata": {},
   "source": [
    "**Note: The decimal Unicode value 68 corresponds to the character 'D' , which is the uppercase Latin letter D. It is represented as U+0044 in Unicode.**"
   ]
  },
  {
   "cell_type": "markdown",
   "id": "3628628c-a4ce-48cb-a640-228d051bca61",
   "metadata": {},
   "source": [
    "# 2. memoryview– Efficient memory handling (no copying)"
   ]
  },
  {
   "cell_type": "code",
   "execution_count": 7,
   "id": "1dd0f07f-afa0-4939-9678-ef218c7b6287",
   "metadata": {},
   "outputs": [
    {
     "name": "stdout",
     "output_type": "stream",
     "text": [
      "107\n"
     ]
    }
   ],
   "source": [
    "b = bytearray(b\"kwanta\")\n",
    "view = memoryview(b)\n",
    "print(view[0])  # 107 (ASCII of 'k')\n"
   ]
  },
  {
   "cell_type": "markdown",
   "id": "aa6a4977-b7ab-4811-b620-d1be9241c06a",
   "metadata": {},
   "source": [
    "**Useful for performance-sensitive data processing (e.g., I/O or file streams).**"
   ]
  },
  {
   "cell_type": "markdown",
   "id": "7c346470-e944-4acb-97aa-3bf99b58bd58",
   "metadata": {},
   "source": [
    "# 3. range – No longer returns a list\n",
    "In Python 3, range() returns a lightweight, memory-efficient object."
   ]
  },
  {
   "cell_type": "code",
   "execution_count": null,
   "id": "051dfa5a-ff3b-40dc-ba09-b097de8449ea",
   "metadata": {},
   "outputs": [],
   "source": [
    "r = range(1_000_000)\n",
    "print(type(r))  # <class 'range'>\n",
    "print(r[10])    # 10\n"
   ]
  },
  {
   "cell_type": "markdown",
   "id": "b9ef85dd-437d-4817-bb17-07d54ecba5d6",
   "metadata": {},
   "source": [
    "**Loop over huge numbers without memory impact!**"
   ]
  },
  {
   "cell_type": "markdown",
   "id": "498b8391-96a3-4d00-b93c-c8a83074681e",
   "metadata": {},
   "source": [
    "# 4. set and frozenset\n",
    "Unordered collections of unique values.\n",
    "frozenset is immutable and hashable (usable as dict keys or set elements)."
   ]
  },
  {
   "cell_type": "code",
   "execution_count": null,
   "id": "0d7277d5-f13d-40af-9987-b92e096d5627",
   "metadata": {},
   "outputs": [],
   "source": [
    "s = set([1, 2, 3, 3])\n",
    "print(s)  # {1, 2, 3}\n",
    "\n",
    "fs = frozenset([1, 2, 3])\n",
    "# fs.add(4) → ❌ error: 'frozenset' object has no attribute 'add'\n"
   ]
  },
  {
   "cell_type": "markdown",
   "id": "26d096fe-a1bd-492f-b037-e0f003314958",
   "metadata": {},
   "source": [
    "# 5. dict is Ordered (Python 3.7+)\n",
    "Since Python 3.7, dictionaries maintain insertion order:"
   ]
  },
  {
   "cell_type": "code",
   "execution_count": null,
   "id": "6b198853-8c08-45d2-8e7b-401dd68031f1",
   "metadata": {},
   "outputs": [],
   "source": [
    "d = {'a': 1, 'b': 2}\n",
    "d['c'] = 3\n",
    "print(d)  # {'a': 1, 'b': 2, 'c': 3}\n"
   ]
  },
  {
   "cell_type": "markdown",
   "id": "2332576c-4b1c-4a5f-8cc9-8c1049e58b6c",
   "metadata": {},
   "source": [
    "**This makes them even more useful for config, JSON, etc.**"
   ]
  },
  {
   "cell_type": "markdown",
   "id": "9f47d19e-b9af-4958-9f7d-00c23ba5372c",
   "metadata": {},
   "source": [
    "# 6. Type Hints (Python 3.5+)\n",
    "Not a data type, but a feature to declare expected types."
   ]
  },
  {
   "cell_type": "code",
   "execution_count": null,
   "id": "cc0efee5-029a-4141-a2db-24d4470bd360",
   "metadata": {},
   "outputs": [],
   "source": [
    "def greet(name: str) -> str:\n",
    "    return \"Hello, \" + name\n",
    "\n",
    "# Tools like VSCode or mypy can check types now.\n"
   ]
  },
  {
   "cell_type": "markdown",
   "id": "c002cd82-b276-4de0-b0eb-04293c3f0df7",
   "metadata": {},
   "source": [
    "# 🔚 Final Tip: Use type() and isinstance() to explore any type!"
   ]
  },
  {
   "cell_type": "code",
   "execution_count": null,
   "id": "47d497c1-a52c-4721-8e58-75bcb51d27f1",
   "metadata": {},
   "outputs": [],
   "source": [
    "x = 5.2\n",
    "print(type(x))             # <class 'float'>\n",
    "print(isinstance(x, float))  # True\n"
   ]
  },
  {
   "cell_type": "markdown",
   "id": "5cd3c7e3-0bde-4211-aa5f-06ac8a44e090",
   "metadata": {},
   "source": [
    "**✅ Mastering types = mastering Python logic.**\n",
    "💻 Drop your favorite type in the comments 👇🏽"
   ]
  }
 ],
 "metadata": {
  "kernelspec": {
   "display_name": "Python 3 (ipykernel)",
   "language": "python",
   "name": "python3"
  },
  "language_info": {
   "codemirror_mode": {
    "name": "ipython",
    "version": 3
   },
   "file_extension": ".py",
   "mimetype": "text/x-python",
   "name": "python",
   "nbconvert_exporter": "python",
   "pygments_lexer": "ipython3",
   "version": "3.13.5"
  }
 },
 "nbformat": 4,
 "nbformat_minor": 5
}
